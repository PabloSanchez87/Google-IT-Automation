{
 "cells": [
  {
   "cell_type": "markdown",
   "metadata": {},
   "source": [
    "# The problem and solution\n",
    "Imagine this scenario: Every month, you are handed a spreadsheet with hundreds of new hires. You are asked to create user accounts for all of them on a Linux server. The formatting on the spreadsheet looks like this:\n",
    "\n",
    "```\n",
    "username,password,real_name\n",
    "\n",
    "amanda,,Amanda Alonso\n",
    "\n",
    "ian,,Ian Ortega\n",
    "\n",
    "eugene,,Eugene Konya\n",
    "\n",
    "[...]\n",
    "```\n",
    "\n",
    "Notice that the password field is empty for all the records. This means you need to generate random passwords for each user and then create their accounts. You also want to write the passwords that you generate back to a new CSV file so that you can tell the new employees their passwords. \n",
    "\n",
    "This task isn’t difficult, but it is time-intensive if you create passwords and accounts for the hundreds of new hires one by one. Your solution is to automate this task in Python."
   ]
  },
  {
   "cell_type": "markdown",
   "metadata": {},
   "source": [
    "## The script\n",
    "To automate the task of creating passwords and accounts for all of these new hires, the script should do the following:\n",
    "- Read a list of new hires from `users_in.csv`.\n",
    "- Generate random 16-character passwords for each user.\n",
    "- Create each user account.\n",
    "- Write the spreadsheet back to `users_out.csv` with the new passwords."
   ]
  },
  {
   "cell_type": "markdown",
   "metadata": {},
   "source": [
    "### Your tools\n",
    "To help organize all the data, create accounts for the new hires, and create passwords for each new user, you first need to import a few standard Python libraries. \n",
    "```py\n",
    "import csv\n",
    "```\n",
    "This library helps read and write the CSV files. \n",
    "```py\n",
    "import secrets\n",
    "```\n",
    "This helps generate random passwords for each user account. \n",
    "```py\n",
    "import subprocess\n",
    "```\n",
    "This calls the useradd command, which creates and adds each user account.\n",
    "```py\n",
    "from pathlib import Path   # to locate the data files\n",
    "```\n",
    "This library helps to locate the data files for each user account."
   ]
  },
  {
   "cell_type": "markdown",
   "metadata": {},
   "source": [
    "### Getting started\n",
    "After importing the libraries that help you execute your script, you need to get the current working directory and find the subdirectory where the CSV files are stored. Use `cwd` for “current working directory” and identify the path of the Python directory as a string: "
   ]
  },
  {
   "cell_type": "code",
   "execution_count": 1,
   "metadata": {},
   "outputs": [
    {
     "ename": "FileNotFoundError",
     "evalue": "[Errno 2] No such file or directory: '/home/pablost/Google_IT_Automation_With_Python_Course/1-Crash_Course_on_Python/Module_5/drive/MyDrive/Colab Notebooks/data/users_in.csv'",
     "output_type": "error",
     "traceback": [
      "\u001b[0;31m---------------------------------------------------------------------------\u001b[0m",
      "\u001b[0;31mFileNotFoundError\u001b[0m                         Traceback (most recent call last)",
      "Cell \u001b[0;32mIn[1], line 8\u001b[0m\n\u001b[1;32m      5\u001b[0m cwd \u001b[38;5;241m=\u001b[39m Path\u001b[38;5;241m.\u001b[39mcwd() \u001b[38;5;241m/\u001b[39m \u001b[38;5;124m\"\u001b[39m\u001b[38;5;124mdrive/MyDrive/Colab Notebooks\u001b[39m\u001b[38;5;124m\"\u001b[39m\n\u001b[1;32m      6\u001b[0m \u001b[38;5;66;03m# Next, you use a `with` statement and an `as` keyword. The `with` statement helps with resource management,\u001b[39;00m\n\u001b[1;32m      7\u001b[0m \u001b[38;5;66;03m# and the `as` keyword creates an alias for the resource you want to call. Consider the following code:\u001b[39;00m\n\u001b[0;32m----> 8\u001b[0m \u001b[38;5;28;01mwith\u001b[39;00m \u001b[38;5;28;43mopen\u001b[39;49m\u001b[43m(\u001b[49m\u001b[43mcwd\u001b[49m\u001b[43m \u001b[49m\u001b[38;5;241;43m/\u001b[39;49m\u001b[43m \u001b[49m\u001b[38;5;124;43m\"\u001b[39;49m\u001b[38;5;124;43mdata/users_in.csv\u001b[39;49m\u001b[38;5;124;43m\"\u001b[39;49m\u001b[43m,\u001b[49m\u001b[43m \u001b[49m\u001b[38;5;124;43m\"\u001b[39;49m\u001b[38;5;124;43mr\u001b[39;49m\u001b[38;5;124;43m\"\u001b[39;49m\u001b[43m)\u001b[49m \u001b[38;5;28;01mas\u001b[39;00m file_input, \u001b[38;5;28mopen\u001b[39m(cwd \u001b[38;5;241m/\u001b[39m \u001b[38;5;124m\"\u001b[39m\u001b[38;5;124mdata/users_out.csv\u001b[39m\u001b[38;5;124m\"\u001b[39m, \u001b[38;5;124m\"\u001b[39m\u001b[38;5;124mw\u001b[39m\u001b[38;5;124m\"\u001b[39m) \u001b[38;5;28;01mas\u001b[39;00m file_output:\n\u001b[1;32m      9\u001b[0m     \u001b[38;5;66;03m# The CSV library takes care of reading and parsing the input from the file. \u001b[39;00m\n\u001b[1;32m     10\u001b[0m     \u001b[38;5;66;03m# Next, you can use a DictReader object so that each row in the file is read into a dict() with the field \u001b[39;00m\n\u001b[1;32m     11\u001b[0m     \u001b[38;5;66;03m# names and values, like this: {\"username\": \"amanda\", \"password\": \"\", \"real_name\": \"Amanda Alonso\"}.\u001b[39;00m\n\u001b[1;32m     12\u001b[0m     \u001b[38;5;66;03m# The following code is an example of how you use the DictReader: \u001b[39;00m\n\u001b[1;32m     13\u001b[0m     reader \u001b[38;5;241m=\u001b[39m csv\u001b[38;5;241m.\u001b[39mDictReader(file_input)\n\u001b[1;32m     14\u001b[0m     \u001b[38;5;66;03m# The input for the script is now complete! Now you need to set up the output. You create a DictWriter and \u001b[39;00m\n\u001b[1;32m     15\u001b[0m     \u001b[38;5;66;03m# use the same field names from the input, like so:\u001b[39;00m\n",
      "File \u001b[0;32m~/Google_IT_Automation_With_Python_Course/.env/lib/python3.12/site-packages/IPython/core/interactiveshell.py:324\u001b[0m, in \u001b[0;36m_modified_open\u001b[0;34m(file, *args, **kwargs)\u001b[0m\n\u001b[1;32m    317\u001b[0m \u001b[38;5;28;01mif\u001b[39;00m file \u001b[38;5;129;01min\u001b[39;00m {\u001b[38;5;241m0\u001b[39m, \u001b[38;5;241m1\u001b[39m, \u001b[38;5;241m2\u001b[39m}:\n\u001b[1;32m    318\u001b[0m     \u001b[38;5;28;01mraise\u001b[39;00m \u001b[38;5;167;01mValueError\u001b[39;00m(\n\u001b[1;32m    319\u001b[0m         \u001b[38;5;124mf\u001b[39m\u001b[38;5;124m\"\u001b[39m\u001b[38;5;124mIPython won\u001b[39m\u001b[38;5;124m'\u001b[39m\u001b[38;5;124mt let you open fd=\u001b[39m\u001b[38;5;132;01m{\u001b[39;00mfile\u001b[38;5;132;01m}\u001b[39;00m\u001b[38;5;124m by default \u001b[39m\u001b[38;5;124m\"\u001b[39m\n\u001b[1;32m    320\u001b[0m         \u001b[38;5;124m\"\u001b[39m\u001b[38;5;124mas it is likely to crash IPython. If you know what you are doing, \u001b[39m\u001b[38;5;124m\"\u001b[39m\n\u001b[1;32m    321\u001b[0m         \u001b[38;5;124m\"\u001b[39m\u001b[38;5;124myou can use builtins\u001b[39m\u001b[38;5;124m'\u001b[39m\u001b[38;5;124m open.\u001b[39m\u001b[38;5;124m\"\u001b[39m\n\u001b[1;32m    322\u001b[0m     )\n\u001b[0;32m--> 324\u001b[0m \u001b[38;5;28;01mreturn\u001b[39;00m \u001b[43mio_open\u001b[49m\u001b[43m(\u001b[49m\u001b[43mfile\u001b[49m\u001b[43m,\u001b[49m\u001b[43m \u001b[49m\u001b[38;5;241;43m*\u001b[39;49m\u001b[43margs\u001b[49m\u001b[43m,\u001b[49m\u001b[43m \u001b[49m\u001b[38;5;241;43m*\u001b[39;49m\u001b[38;5;241;43m*\u001b[39;49m\u001b[43mkwargs\u001b[49m\u001b[43m)\u001b[49m\n",
      "\u001b[0;31mFileNotFoundError\u001b[0m: [Errno 2] No such file or directory: '/home/pablost/Google_IT_Automation_With_Python_Course/1-Crash_Course_on_Python/Module_5/drive/MyDrive/Colab Notebooks/data/users_in.csv'"
     ]
    }
   ],
   "source": [
    "import csv\n",
    "import secrets\n",
    "import subprocess\n",
    "from pathlib import Path\n",
    "cwd = Path.cwd() / \"PATH\" # replace with your path\n",
    "# Next, you use a `with` statement and an `as` keyword. The `with` statement helps with resource management,\n",
    "# and the `as` keyword creates an alias for the resource you want to call. Consider the following code:\n",
    "with open(cwd / \"data/users_in.csv\", \"r\") as file_input, open(cwd / \"data/users_out.csv\", \"w\") as file_output:\n",
    "    # The CSV library takes care of reading and parsing the input from the file. \n",
    "    # Next, you can use a DictReader object so that each row in the file is read into a dict() with the field \n",
    "    # names and values, like this: {\"username\": \"amanda\", \"password\": \"\", \"real_name\": \"Amanda Alonso\"}.\n",
    "    # The following code is an example of how you use the DictReader: \n",
    "    reader = csv.DictReader(file_input)\n",
    "    # The input for the script is now complete! Now you need to set up the output. You create a DictWriter and \n",
    "    # use the same field names from the input, like so:\n",
    "    writer = csv.DictWriter(file_output,fieldnames=reader.fieldnames)\n",
    "    writer.writeheader()\n",
    "    # Now, you create a for loop to run through each record from the input file. \n",
    "    for user in reader:\n",
    "        # After the for loop, you use the secrets library that you imported at the beginning of the script to generate\n",
    "        # a random password of eight hex bytes, which equals 16 characters in total. Then, run the /sbin/useradd command \n",
    "        # to create each user. The check=True parameter causes the script to exit with a CalledProcessError if the \n",
    "        # command fails for any reason.\n",
    "        user[\"password\"] = secrets.token_hex(8)\n",
    "        useradd_cmd = [\"/sbin/useradd\",\n",
    "                    \"-c\", user[\"real_name\"],\n",
    "                    \"-m\",\n",
    "                    \"-G\", \"users\",\n",
    "                    \"-p\", user[\"password\"],\n",
    "                    user[\"username\"]]\n",
    "        subprocess.run(useradd_cmd, check=True)\n",
    "        # Finally, you write the records back to the output file, including the passwords. When you run the code,\n",
    "        # the new user accounts and their passwords are generated into a new CSV file.\n",
    "        writer.writerow(user)"
   ]
  },
  {
   "cell_type": "markdown",
   "metadata": {},
   "source": [
    "## Key takeaways\n",
    "There are many real-world applications for using Python: creating programs, solving complex problems, simplifying and/or automating time-intensive tasks, and many more. But the process always remains the same—identifying a problem, coming up with a solution, determining the tools that help you achieve your solution, as well as the most significant part—writing the actual script! As you saw in this example, any time you have a repetitive task, think of using Python to automate that task. The programming skills you’ve learned can make the work you do in your IT job a lot faster and more efficient!"
   ]
  }
 ],
 "metadata": {
  "kernelspec": {
   "display_name": ".env",
   "language": "python",
   "name": "python3"
  },
  "language_info": {
   "codemirror_mode": {
    "name": "ipython",
    "version": 3
   },
   "file_extension": ".py",
   "mimetype": "text/x-python",
   "name": "python",
   "nbconvert_exporter": "python",
   "pygments_lexer": "ipython3",
   "version": "3.12.0"
  }
 },
 "nbformat": 4,
 "nbformat_minor": 2
}
