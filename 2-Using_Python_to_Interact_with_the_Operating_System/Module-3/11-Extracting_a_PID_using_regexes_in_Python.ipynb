{
 "cells": [
  {
   "cell_type": "markdown",
   "metadata": {},
   "source": [
    "# Extracting a PID using regexes in Python"
   ]
  },
  {
   "cell_type": "code",
   "execution_count": 8,
   "metadata": {},
   "outputs": [
    {
     "name": "stdout",
     "output_type": "stream",
     "text": [
      "12345\n"
     ]
    }
   ],
   "source": [
    "import re  # Import the 're' module to work with regular expressions\n",
    "\n",
    "# A log message that contains a process ID within square brackets\n",
    "log = \"July 31 07:51:48 mycomputer bad_process[12345]: ERROR Performing package upgrade\"\n",
    "\n",
    "# Define a regular expression to search for numbers inside square brackets (process ID)\n",
    "# \\d+ means one or more digits, and the parentheses () indicate a capture group to extract the digits\n",
    "regex = r\"\\[(\\d+)\\]\"  # This will match and capture the process ID in the log\n",
    "\n",
    "# Use re.search() to find the pattern in the 'log' string\n",
    "result = re.search(regex, log)\n",
    "\n",
    "# Print the first captured group, which is the process ID (the digits inside the square brackets)\n",
    "print(result[1])  # The first captured group contains the process ID '12345'\n"
   ]
  },
  {
   "cell_type": "code",
   "execution_count": 9,
   "metadata": {},
   "outputs": [
    {
     "name": "stdout",
     "output_type": "stream",
     "text": [
      "34567\n"
     ]
    }
   ],
   "source": [
    "import re  # Import the 're' module to work with regular expressions\n",
    "\n",
    "# Define a string that simulates a system log message\n",
    "log = \"July 31 07:51:48 mycomputer bad_process[12345]: ERROR Performing package upgrade\"\n",
    "\n",
    "# Define a regular expression to search for numbers inside square brackets\n",
    "# \\d+ means one or more digits, and the parentheses () indicate a capture group\n",
    "regex = r\"\\[(\\d+)\\]\"\n",
    "\n",
    "# Use re.search() to search for the pattern in the 'log' string\n",
    "# If it finds the pattern, it returns a match object; otherwise, it returns None\n",
    "result = re.search(regex, log)\n",
    "\n",
    "# Search again in a different string that also contains numbers in square brackets\n",
    "result = re.search(regex, \"A completely different string that also has numbers [34567]\")\n",
    "\n",
    "# Attempt to print the first captured group (the numbers inside the brackets)\n",
    "# This works if 'result' is not None\n",
    "print(result[1])\n"
   ]
  },
  {
   "cell_type": "code",
   "execution_count": 3,
   "metadata": {},
   "outputs": [
    {
     "ename": "TypeError",
     "evalue": "'NoneType' object is not subscriptable",
     "output_type": "error",
     "traceback": [
      "\u001b[0;31m---------------------------------------------------------------------------\u001b[0m",
      "\u001b[0;31mTypeError\u001b[0m                                 Traceback (most recent call last)",
      "Cell \u001b[0;32mIn[3], line 7\u001b[0m\n\u001b[1;32m      5\u001b[0m result \u001b[38;5;241m=\u001b[39m re\u001b[38;5;241m.\u001b[39msearch(regex, \u001b[38;5;124m\"\u001b[39m\u001b[38;5;124mA completely different string that also has numbers [34567]\u001b[39m\u001b[38;5;124m\"\u001b[39m)\n\u001b[1;32m      6\u001b[0m result \u001b[38;5;241m=\u001b[39m re\u001b[38;5;241m.\u001b[39msearch(regex, \u001b[38;5;124m\"\u001b[39m\u001b[38;5;124m99 elephants in a [cage]\u001b[39m\u001b[38;5;124m\"\u001b[39m)\n\u001b[0;32m----> 7\u001b[0m \u001b[38;5;28mprint\u001b[39m(\u001b[43mresult\u001b[49m\u001b[43m[\u001b[49m\u001b[38;5;241;43m1\u001b[39;49m\u001b[43m]\u001b[49m)\n\u001b[1;32m      8\u001b[0m \u001b[38;5;66;03m#Note that this print command results in an error as shown in the video. \u001b[39;00m\n",
      "\u001b[0;31mTypeError\u001b[0m: 'NoneType' object is not subscriptable"
     ]
    }
   ],
   "source": [
    "import re\n",
    "log = \"July 31 07:51:48 mycomputer bad_process[12345]: ERROR Performing package upgrade\"\n",
    "regex = r\"\\[(\\d+)\\]\"\n",
    "result = re.search(regex, log)\n",
    "result = re.search(regex, \"A completely different string that also has numbers [34567]\")\n",
    "result = re.search(regex, \"99 elephants in a [cage]\")\n",
    "print(result[1])\n",
    "\n",
    "\n",
    "#The error occurs because re.search() didn't find a match in the string \"99 elephants in a [cage]\", \n",
    "# so it returned None. When you try to access result[1], it raises a TypeError because None is not subscriptable."
   ]
  },
  {
   "cell_type": "code",
   "execution_count": 10,
   "metadata": {},
   "outputs": [
    {
     "name": "stdout",
     "output_type": "stream",
     "text": [
      "12345\n"
     ]
    }
   ],
   "source": [
    "import re  # Import the 're' module to use regular expressions\n",
    "\n",
    "# A log message containing a process ID inside square brackets\n",
    "log = \"July 31 07:51:48 mycomputer bad_process[12345]: ERROR Performing package upgrade\"\n",
    "\n",
    "# Define a regular expression to find numbers within square brackets\n",
    "regex = r\"\\[(\\d+)\\]\"  # This will match any sequence of digits inside square brackets\n",
    "\n",
    "# Search for the pattern in the log string\n",
    "result = re.search(regex, log)\n",
    "\n",
    "# Search in another string that also contains numbers in square brackets\n",
    "result = re.search(regex, \"A completely different string that also has numbers [34567]\")\n",
    "\n",
    "# Search in a string where the text inside brackets is not a number\n",
    "# This will fail to match because the content is non-numeric\n",
    "result = re.search(regex, \"99 elephants in a [cage]\")\n",
    "\n",
    "# Define a function to extract the process ID (PID) from a log line\n",
    "def extract_pid(log_line):\n",
    "    # This function takes a log line as input and returns the process ID\n",
    "    # If the log line does not contain a process ID, it returns an empty string\n",
    "    regex = r\"\\[(\\d+)\\]\"  # Define the same regex to capture digits inside square brackets\n",
    "    result = re.search(regex, log_line)  # Search for the pattern in the log line\n",
    "    if result is None:  # If no match is found, return an empty string\n",
    "        return \"\"\n",
    "    return result[1]  # Return the first captured group (the digits inside brackets)\n",
    "\n",
    "# Call the function with the 'log' variable and print the result\n",
    "# This will print '12345' as that is the process ID extracted from the log\n",
    "print(extract_pid(log))\n"
   ]
  },
  {
   "cell_type": "code",
   "execution_count": 11,
   "metadata": {},
   "outputs": [
    {
     "name": "stdout",
     "output_type": "stream",
     "text": [
      "12345\n",
      "\n"
     ]
    }
   ],
   "source": [
    "import re  # Import the 're' module for regular expressions\n",
    "\n",
    "# A sample log message with a process ID inside square brackets\n",
    "log = \"July 31 07:51:48 mycomputer bad_process[12345]: ERROR Performing package upgrade\"\n",
    "\n",
    "# Define a regular expression to search for numbers inside square brackets\n",
    "regex = r\"\\[(\\d+)\\]\"  # \\d+ matches one or more digits inside square brackets\n",
    "\n",
    "# Use re.search() to find the pattern in the 'log' string\n",
    "result = re.search(regex, log)\n",
    "\n",
    "# Search in a different string that also contains numbers inside square brackets\n",
    "result = re.search(regex, \"A completely different string that also has numbers [34567]\")\n",
    "\n",
    "# Search in a string where the content inside the brackets is not a number\n",
    "result = re.search(regex, \"99 elephants in a [cage]\")  # This will return None as 'cage' is not a number\n",
    "\n",
    "# Define a function to extract the process ID (PID) from a log line\n",
    "def extract_pid(log_line):\n",
    "    regex = r\"\\[(\\d+)\\]\"  # Regular expression to capture numbers inside square brackets\n",
    "    result = re.search(regex, log_line)  # Search for the pattern in the provided log line\n",
    "    if result is None:  # If no match is found, return an empty string\n",
    "        return \"\"\n",
    "    return result[1]  # Return the first captured group, which is the process ID\n",
    "\n",
    "# Call the function with the 'log' variable and print the result\n",
    "# This should print '12345' as the process ID from the log message\n",
    "print(extract_pid(log))\n",
    "\n",
    "# Call the function with a string where the content inside brackets is not a number\n",
    "# This should print an empty string because 'cage' is not a number, and there's no match\n",
    "print(extract_pid(\"99 elephants in a [cage]\"))\n"
   ]
  }
 ],
 "metadata": {
  "kernelspec": {
   "display_name": ".env",
   "language": "python",
   "name": "python3"
  },
  "language_info": {
   "codemirror_mode": {
    "name": "ipython",
    "version": 3
   },
   "file_extension": ".py",
   "mimetype": "text/x-python",
   "name": "python",
   "nbconvert_exporter": "python",
   "pygments_lexer": "ipython3",
   "version": "3.12.0"
  }
 },
 "nbformat": 4,
 "nbformat_minor": 2
}
