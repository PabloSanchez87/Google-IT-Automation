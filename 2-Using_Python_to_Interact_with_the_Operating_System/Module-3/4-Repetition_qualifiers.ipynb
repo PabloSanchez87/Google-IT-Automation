{
 "cells": [
  {
   "cell_type": "markdown",
   "metadata": {},
   "source": [
    "# Repetition qualifiers\n"
   ]
  },
  {
   "cell_type": "code",
   "execution_count": 6,
   "metadata": {},
   "outputs": [
    {
     "name": "stdout",
     "output_type": "stream",
     "text": [
      "<re.Match object; span=(0, 9), match='Pygmalion'>\n",
      "<re.Match object; span=(0, 17), match='Python Programmin'>\n",
      "<re.Match object; span=(0, 6), match='Python'>\n",
      "<re.Match object; span=(0, 4), match='Pytn'>\n"
     ]
    }
   ],
   "source": [
    "import re\n",
    "print(re.search(r\"Py.*n\", \"Pygmalion\"))\n",
    "print(re.search(r\"Py.*n\", \"Python Programming\"))\n",
    "print(re.search(r\"Py[a-z]*n\", \"Python Programming\"))\n",
    "print(re.search(r\"Py[a-z]*n\", \"Pytn\"))"
   ]
  },
  {
   "cell_type": "code",
   "execution_count": 3,
   "metadata": {},
   "outputs": [
    {
     "name": "stdout",
     "output_type": "stream",
     "text": [
      "<re.Match object; span=(1, 3), match='ol'>\n",
      "<re.Match object; span=(1, 5), match='ooll'>\n",
      "None\n"
     ]
    }
   ],
   "source": [
    "import re\n",
    "print(re.search(r\"o+l+\", \"goldfish\"))\n",
    "print(re.search(r\"o+l+\", \"woolly\"))\n",
    "print(re.search(r\"o+l+\", \"boil\"))"
   ]
  },
  {
   "cell_type": "code",
   "execution_count": 2,
   "metadata": {},
   "outputs": [
    {
     "name": "stdout",
     "output_type": "stream",
     "text": [
      "<re.Match object; span=(3, 7), match='each'>\n",
      "<re.Match object; span=(7, 12), match='peach'>\n"
     ]
    }
   ],
   "source": [
    "import re\n",
    "print(re.search(r\"p?each\", \"To each their own\"))\n",
    "print(re.search(r\"p?each\", \"I like peaches\"))"
   ]
  }
 ],
 "metadata": {
  "kernelspec": {
   "display_name": ".env",
   "language": "python",
   "name": "python3"
  },
  "language_info": {
   "codemirror_mode": {
    "name": "ipython",
    "version": 3
   },
   "file_extension": ".py",
   "mimetype": "text/x-python",
   "name": "python",
   "nbconvert_exporter": "python",
   "pygments_lexer": "ipython3",
   "version": "3.12.0"
  }
 },
 "nbformat": 4,
 "nbformat_minor": 2
}
