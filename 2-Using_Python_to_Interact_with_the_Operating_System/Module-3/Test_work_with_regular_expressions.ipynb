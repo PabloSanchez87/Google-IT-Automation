{
 "cells": [
  {
   "cell_type": "markdown",
   "metadata": {},
   "source": [
    "1. Which of the following tasks can be accomplished using regular expressions? Select all that apply.\n",
    "\n",
    "[X] Replacing a specific pattern in a text\n",
    "\n",
    "[X] Finding all occurrences of a word in a text\n",
    "\n",
    "[X] Extracting email addresses from a text\n",
    "\n",
    "[ ] Sorting a list of numbers\n",
    "\n",
    "[ ] Generating random numbers"
   ]
  },
  {
   "cell_type": "markdown",
   "metadata": {},
   "source": [
    "2. Which function from Python’s re module can you use to replace old text with new text? \n",
    "\n",
    "[ ] re.compile() function\n",
    "\n",
    "[ ] str.replace() method\n",
    "\n",
    "[ ] re.findall() function \n",
    "\n",
    "[X] re.sub() function "
   ]
  },
  {
   "cell_type": "markdown",
   "metadata": {},
   "source": [
    "3. You have a list of website urls that includes both securely encrypted websites that begin with https:// and the unencrypted websites that begin with http://. The list includes websites that end in .com and .co. \n",
    "\n",
    "Complete the secure_website_domain function so it returns the part of the website between www. and the last part of the url (.com or .co) for only the secure websites. "
   ]
  },
  {
   "cell_type": "code",
   "execution_count": 2,
   "metadata": {},
   "outputs": [
    {
     "name": "stdout",
     "output_type": "stream",
     "text": [
      "\n",
      "text\n",
      "\n",
      "text\n"
     ]
    }
   ],
   "source": [
    "import re\n",
    "def secure_website_domain(website):\n",
    " pattern = r\"^https://www\\.(\\w+)\\.(com|co)$\" # enter the regex pattern here\n",
    " result = re.match(pattern, website) # enter the re method here\n",
    " if result is None:\n",
    "  return \"\"\n",
    " return result.group(1)# enter the correct capturing group\n",
    "\n",
    "\n",
    "print(secure_website_domain(\"http://www.text.com\")) #Should return nothing\n",
    "print(secure_website_domain(\"https://www.text.com\")) #Should return text\n",
    "print(secure_website_domain(\"http://www.text.co\")) #Should return nothing\n",
    "print(secure_website_domain(\"https://www.text.co\")) #Should return text"
   ]
  },
  {
   "cell_type": "markdown",
   "metadata": {},
   "source": [
    "4. You are exploring the punctuation at the end of sentences and want to split sentences so that each word is separate and any punctuation is included in the word next to it. Complete the parse_sentences function to accomplish this task. "
   ]
  },
  {
   "cell_type": "code",
   "execution_count": 8,
   "metadata": {},
   "outputs": [
    {
     "name": "stdout",
     "output_type": "stream",
     "text": [
      "['Hello!', 'How', 'are', 'you', 'doing?']\n",
      "['what', 'a', 'beautiful', 'day', 'it', 'is']\n",
      "['2', '+', '2', 'is', 'definitely', '4!']\n"
     ]
    }
   ],
   "source": [
    "def parse_sentences(sentence):\n",
    " pattern = r'\\w+[^\\s\\w]*|[^\\s\\w]+' #enter the regex pattern here\n",
    " result = re.findall(pattern, sentence) #enter the re method  here\n",
    " return result\n",
    "\n",
    "print(parse_sentences(\"Hello! How are you doing?\")) # should return ['Hello!', 'How', 'are', 'you', 'doing?']\n",
    "print(parse_sentences(\"what a beautiful day it is\")) # should return ['what', 'a', 'beautiful', 'day', 'it', 'is']\n",
    "print(parse_sentences(\"2 + 2 is definitely 4!\")) # should return ['2', '+', '2', 'is', 'definitely', '4!']\n"
   ]
  },
  {
   "cell_type": "markdown",
   "metadata": {},
   "source": [
    "5. A company uses Product ID numbers to identify each product line it makes. Each product ID starts with 4 digits, followed by a hyphen (-), followed by two capital letters, followed by a hyphen (-), followed by two more digits, in the format 1234-AB-12. The manufacturing team records information about the production of each product line daily. \n",
    "\n",
    "You want to extract the product ID numbers of one of these product lines, which begins with a 1. The other characters in the product ID can be any digit or variable, as long as they follow the product ID format described above. Complete the following code so the find_productID function returns all product ID numbers that match the product of interest. "
   ]
  },
  {
   "cell_type": "code",
   "execution_count": 9,
   "metadata": {},
   "outputs": [
    {
     "name": "stdout",
     "output_type": "stream",
     "text": [
      "['1234-AB-30']\n",
      "['1234-AB-30', '1678-XZ-11', '1561-CD-57']\n"
     ]
    }
   ],
   "source": [
    "def find_productID(report):\n",
    "  pattern = r'1\\d{3}-[A-Z]{2}-\\d{2}'#enter the regex pattern here\n",
    "  result = re.findall(pattern, report) #enter the re method  here\n",
    "  return result\n",
    "  \n",
    "print(find_productID(\"Products 1234-AB-30 and 2234-AB-30, not items 12-AB-30 or 12345-AB-30\")) # Should return ['1234-AB-30']\n",
    "print(find_productID(\"Products of interest are 1234-AB-30, 1678-XZ-11, and 1561-CD-57. We're not interested in other products like 2345-AB-29.\")) # Should return ['1234-AB-30', '1678-XZ-11', '1561-CD-57']"
   ]
  },
  {
   "cell_type": "markdown",
   "metadata": {},
   "source": [
    "6. In the lab, you defined the replace_domain as: \n",
    "```python\t\n",
    "def replace_domain(address, old_domain, new_domain):\n",
    "  old_domain_pattern = r'' + old_domain + '$'\n",
    "  address = re.sub(old_domain_pattern, new_domain, address)\n",
    "  return address\n",
    "```\t\n",
    "\n",
    "What role does this function have in the process of updating outdated domain names with new domain names?\n",
    "\n",
    "[ ] To read data from a CSV file\n",
    "\n",
    "[ ] To iterate over a list of email addresses\n",
    "\n",
    "[ ] To write the updated list to a CSV file\n",
    "\n",
    "[X] To replace the old domain with the new domain in an email address"
   ]
  },
  {
   "cell_type": "markdown",
   "metadata": {},
   "source": [
    "7.What is the purpose of initializing the old_domain_email_list in the code from the lab?\n",
    "\n",
    "[ ] To perform a substitution operation on email addresses\n",
    "\n",
    "[ ] To store email addresses with the new domain\n",
    "\n",
    "[ ] To store email addresses with the old domain that match the regex pattern\n",
    "\n",
    "[ ] To store all email addresses from user_email_list"
   ]
  }
 ],
 "metadata": {
  "kernelspec": {
   "display_name": ".env",
   "language": "python",
   "name": "python3"
  },
  "language_info": {
   "codemirror_mode": {
    "name": "ipython",
    "version": 3
   },
   "file_extension": ".py",
   "mimetype": "text/x-python",
   "name": "python",
   "nbconvert_exporter": "python",
   "pygments_lexer": "ipython3",
   "version": "3.12.0"
  }
 },
 "nbformat": 4,
 "nbformat_minor": 2
}
