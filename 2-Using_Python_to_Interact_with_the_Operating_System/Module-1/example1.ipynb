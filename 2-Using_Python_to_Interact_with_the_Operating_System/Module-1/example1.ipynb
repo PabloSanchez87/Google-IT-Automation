{
 "cells": [
  {
   "cell_type": "code",
   "execution_count": 8,
   "metadata": {},
   "outputs": [
    {
     "name": "stdout",
     "output_type": "stream",
     "text": [
      "Checking disk usage on /\n",
      "Free space on /: 91.66430505680562%\n",
      "CPU usage: 0.4%\n",
      "System is healthy\n"
     ]
    }
   ],
   "source": [
    "import shutil # for disk usage\n",
    "import psutil # for CPU usage\n",
    "\n",
    "# Check disk usage and CPU usage and return True if it's less than 20%\n",
    "def check_disk_usage(disk):\n",
    "    print(f'Checking disk usage on: {disk}')\n",
    "    du = shutil.disk_usage(disk) # disk usage in bytes (total, used, free)\n",
    "    free = du.free / du.total * 100\n",
    "    print(f'Free space on {disk}: {free}%')\n",
    "    return free > 20\n",
    "\n",
    "# Check CPU usage and return True if it's less than 75%\n",
    "def check_cpu_usage():\n",
    "    usage = psutil.cpu_percent(interval=1) # CPU usage in percent (0-100)\n",
    "    print(f'CPU usage: {usage}%')\n",
    "    return usage < 75\n",
    "\n",
    "# Check if system is healthy\n",
    "if not check_disk_usage('/') or not check_cpu_usage():\n",
    "    print('Disk usage or CPU usage is too high')\n",
    "else:\n",
    "    print('System is healthy')\n",
    "\n"
   ]
  }
 ],
 "metadata": {
  "kernelspec": {
   "display_name": ".env",
   "language": "python",
   "name": "python3"
  },
  "language_info": {
   "codemirror_mode": {
    "name": "ipython",
    "version": 3
   },
   "file_extension": ".py",
   "mimetype": "text/x-python",
   "name": "python",
   "nbconvert_exporter": "python",
   "pygments_lexer": "ipython3",
   "version": "3.12.0"
  }
 },
 "nbformat": 4,
 "nbformat_minor": 2
}
