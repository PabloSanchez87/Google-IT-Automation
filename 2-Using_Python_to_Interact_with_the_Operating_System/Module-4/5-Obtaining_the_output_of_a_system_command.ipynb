{
 "cells": [
  {
   "cell_type": "code",
   "execution_count": 2,
   "metadata": {},
   "outputs": [
    {
     "name": "stdout",
     "output_type": "stream",
     "text": [
      "0\n",
      "b'8.8.8.8.in-addr.arpa domain name pointer dns.google.\\n'\n",
      "['8.8.8.8.in-addr.arpa', 'domain', 'name', 'pointer', 'dns.google.']\n"
     ]
    }
   ],
   "source": [
    "import subprocess\n",
    "result = subprocess.run([\"host\", \"8.8.8.8\"], capture_output=True)\n",
    "\n",
    "\n",
    "\n",
    "result = subprocess.run([\"host\", \"8.8.8.8\"], capture_output=True)\n",
    "print(result.returncode)\n",
    "\n",
    "\n",
    "\n",
    "result = subprocess.run([\"host\", \"8.8.8.8\"], capture_output=True)\n",
    "print(result.stdout)\n",
    "\n",
    "\n",
    "\n",
    "result = subprocess.run([\"host\", \"8.8.8.8\"], capture_output=True)\n",
    "print(result.stdout.decode().split())"
   ]
  },
  {
   "cell_type": "code",
   "execution_count": 3,
   "metadata": {},
   "outputs": [
    {
     "name": "stdout",
     "output_type": "stream",
     "text": [
      "1\n",
      "1\n",
      "b''\n",
      "b\"rm: cannot remove 'does_not_exist': No such file or directory\\n\"\n"
     ]
    }
   ],
   "source": [
    "import subprocess\n",
    "result = subprocess.run([\"rm\", \"does_not_exist\"], capture_output=True)\n",
    "\n",
    "\n",
    "import subprocess\n",
    "result = subprocess.run([\"rm\", \"does_not_exist\"], capture_output=True)\n",
    "print(result.returncode)\n",
    "\n",
    "import subprocess\n",
    "result = subprocess.run([\"rm\", \"does_not_exist\"], capture_output=True)\n",
    "print(result.returncode)\n",
    "print(result.stdout)\n",
    "print(result.stderr)"
   ]
  }
 ],
 "metadata": {
  "kernelspec": {
   "display_name": ".env",
   "language": "python",
   "name": "python3"
  },
  "language_info": {
   "codemirror_mode": {
    "name": "ipython",
    "version": 3
   },
   "file_extension": ".py",
   "mimetype": "text/x-python",
   "name": "python",
   "nbconvert_exporter": "python",
   "pygments_lexer": "ipython3",
   "version": "3.12.0"
  }
 },
 "nbformat": 4,
 "nbformat_minor": 2
}
