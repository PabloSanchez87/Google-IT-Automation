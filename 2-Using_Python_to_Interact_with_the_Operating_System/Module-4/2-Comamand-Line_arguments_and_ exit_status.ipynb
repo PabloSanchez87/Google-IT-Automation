{
 "cells": [
  {
   "cell_type": "markdown",
   "metadata": {},
   "source": [
    "# Example: Using Command-Line Arguments in Python\n"
   ]
  },
  {
   "cell_type": "code",
   "execution_count": 2,
   "metadata": {},
   "outputs": [
    {
     "name": "stdout",
     "output_type": "stream",
     "text": [
      "['/home/pablost/Google_IT_Automation_With_Python_Course/.env/lib/python3.12/site-packages/ipykernel_launcher.py', '--f=/home/pablost/.local/share/jupyter/runtime/kernel-v3f47a8e9530106826843815c9d0f6648b03c1bbd0.json']\n"
     ]
    }
   ],
   "source": [
    "# parameters.py\n",
    "\n",
    "import sys\n",
    "print(sys.argv)"
   ]
  },
  {
   "cell_type": "markdown",
   "metadata": {
    "vscode": {
     "languageId": "shellscript"
    }
   },
   "source": [
    "You can run this code by saving it in a file called parameters.py and executing it from the terminal. For example:\n",
    "```bash\t\n",
    "./parameters.py\n",
    "./parameters.py one two three\n",
    "```"
   ]
  },
  {
   "cell_type": "markdown",
   "metadata": {},
   "source": [
    "## Terminal Commands: Using `wc` and Exit Codes\n",
    "\n",
    "The `wc` command in Unix is used to count lines, words, and characters in a file.\n",
    "\n",
    "- The following example counts the number of lines, words, and characters in a file named `variables.py`.\n",
    "\n",
    "If the file doesn't exist, `wc` will return an error exit code.\n",
    "\n",
    "- You can check the exit code of the last command executed by using `echo $?`."
   ]
  },
  {
   "cell_type": "code",
   "execution_count": 4,
   "metadata": {
    "vscode": {
     "languageId": "shellscript"
    }
   },
   "outputs": [
    {
     "name": "stdout",
     "output_type": "stream",
     "text": [
      "wc: variables.py: No such file or directory\n",
      "0\n",
      "wc: notpresent.sh: No such file or directory\n",
      "0\n"
     ]
    }
   ],
   "source": [
    "# Run these commands in a terminal or in a Jupyter notebook cell with bash access.\n",
    "\n",
    "# Count lines, words, and characters of variables.py\n",
    "!wc variables.py\n",
    "\n",
    "# Check the exit code\n",
    "!echo $?\n",
    "\n",
    "# Try counting lines, words, and characters of a nonexistent file\n",
    "!wc notpresent.sh\n",
    "\n",
    "# Check the exit code for a nonexistent file\n",
    "!echo $?\n"
   ]
  },
  {
   "cell_type": "markdown",
   "metadata": {},
   "source": [
    "### Python Script: File Creation and Existence Check\n",
    "\n",
    "In this example, we'll see how to create a file in Python and check if it already exists to avoid overwriting it.\n",
    "If the file already exists, the script will return an error exit code (1), and if it doesn't, it will create the file.\n",
    "\n",
    "The following code does the following:\n",
    "\n",
    "- Checks if a file with the given name already exists in the current directory.\n",
    "- If the file doesn't exist, it creates it and writes \"New file created\" inside.\n",
    "- If the file exists, it prints an error and exits with code 1.\n",
    "\n",
    "Let's test it out:"
   ]
  },
  {
   "cell_type": "code",
   "execution_count": null,
   "metadata": {},
   "outputs": [],
   "source": [
    "# create_file.py\n",
    "\n",
    "import os\n",
    "import sys\n",
    "\n",
    "filename = sys.argv[1]\n",
    "\n",
    "if not os.path.exists(filename):\n",
    "    with open(filename, \"w\") as f:\n",
    "        f.write(\"New file created\\n\")\n",
    "    print(f\"File {filename} successfully created.\")\n",
    "else:\n",
    "    print(f\"Error: the file {filename} already exists.\")\n",
    "    sys.exit(1)\n"
   ]
  },
  {
   "cell_type": "markdown",
   "metadata": {},
   "source": [
    "You can execute this script by saving it as create_file.py and running it in the terminal like this:\n",
    "```bash\t\n",
    "./create_file.py example\n",
    "```\t"
   ]
  },
  {
   "cell_type": "markdown",
   "metadata": {},
   "source": [
    "### Verifying the File Content and Exit Code\n",
    "\n",
    "After running the script, you can verify the content of the file and the exit code using the following commands:\n",
    "\n",
    "```bash\n",
    "# View the content of the created file\n",
    "!cat example\n",
    "\n",
    "# Check the exit code from the second attempt\n",
    "!echo $?\n"
   ]
  }
 ],
 "metadata": {
  "kernelspec": {
   "display_name": ".env",
   "language": "python",
   "name": "python3"
  },
  "language_info": {
   "codemirror_mode": {
    "name": "ipython",
    "version": 3
   },
   "file_extension": ".py",
   "mimetype": "text/x-python",
   "name": "python",
   "nbconvert_exporter": "python",
   "pygments_lexer": "ipython3",
   "version": "3.12.0"
  }
 },
 "nbformat": 4,
 "nbformat_minor": 2
}
