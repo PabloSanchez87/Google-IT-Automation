{
 "cells": [
  {
   "cell_type": "code",
   "execution_count": 1,
   "metadata": {},
   "outputs": [
    {
     "data": {
      "text/plain": [
       "(['flour', 'sugar', 'eggs', 'cocoa', 'sprinkles', 'cherries'], 14)"
      ]
     },
     "execution_count": 1,
     "metadata": {},
     "output_type": "execute_result"
    }
   ],
   "source": [
    "from typing import List\n",
    "\n",
    "\n",
    "class CakeFactory:\n",
    " def __init__(self, cake_type: str, size: str):\n",
    "   self.cake_type = cake_type\n",
    "   self.size = size\n",
    "   self.toppings = []\n",
    "\n",
    "   # Price based on cake type and size\n",
    "   self.price = 10 if self.cake_type == \"chocolate\" else 8\n",
    "   self.price += 2 if self.size == \"medium\" else 4 if self.size == \"large\" else 0\n",
    "\n",
    " def add_topping(self, topping: str):\n",
    "     self.toppings.append(topping)\n",
    "     # Adding 1 to the price for each topping\n",
    "     self.price += 1\n",
    "\n",
    " def check_ingredients(self) -> List[str]:\n",
    "     ingredients = ['flour', 'sugar', 'eggs']\n",
    "     ingredients.append('cocoa') if self.cake_type == \"chocolate\" else ingredients.append('vanilla extract')\n",
    "     ingredients += self.toppings\n",
    "     return ingredients\n",
    "\n",
    " def check_price(self) -> float:\n",
    "     return self.price\n",
    "\n",
    "# Example of creating a cake and adding toppings\n",
    "cake = CakeFactory(\"chocolate\", \"medium\")\n",
    "cake.add_topping(\"sprinkles\")\n",
    "cake.add_topping(\"cherries\")\n",
    "cake_ingredients = cake.check_ingredients()\n",
    "cake_price = cake.check_price()\n",
    "\n",
    "\n",
    "cake_ingredients, cake_price"
   ]
  },
  {
   "cell_type": "code",
   "execution_count": 2,
   "metadata": {},
   "outputs": [
    {
     "name": "stderr",
     "output_type": "stream",
     "text": [
      "..F.\n",
      "======================================================================\n",
      "FAIL: test_check_price (__main__.TestCakeFactory.test_check_price)\n",
      "----------------------------------------------------------------------\n",
      "Traceback (most recent call last):\n",
      "  File \"/tmp/ipykernel_16098/1129695515.py\", line 28, in test_check_price\n",
      "    self.assertEqual(price, 13) # Vanilla cake, large size + 2 toppings\n",
      "    ^^^^^^^^^^^^^^^^^^^^^^^^^^^\n",
      "AssertionError: 14 != 13\n",
      "\n",
      "----------------------------------------------------------------------\n",
      "Ran 4 tests in 0.002s\n",
      "\n",
      "FAILED (failures=1)\n"
     ]
    },
    {
     "data": {
      "text/plain": [
       "<unittest.runner.TextTestResult run=4 errors=0 failures=1>"
      ]
     },
     "execution_count": 2,
     "metadata": {},
     "output_type": "execute_result"
    }
   ],
   "source": [
    "import unittest\n",
    "\n",
    "class TestCakeFactory(unittest.TestCase):\n",
    " def test_create_cake(self):\n",
    "   cake = CakeFactory(\"vanilla\", \"small\")\n",
    "   self.assertEqual(cake.cake_type, \"vanilla\")\n",
    "   self.assertEqual(cake.size, \"small\")\n",
    "   self.assertEqual(cake.price, 8) # Vanilla cake, small size\n",
    "\n",
    " def test_add_topping(self):\n",
    "     cake = CakeFactory(\"chocolate\", \"large\")\n",
    "     cake.add_topping(\"sprinkles\")\n",
    "     self.assertIn(\"sprinkles\", cake.toppings)\n",
    "\n",
    " def test_check_ingredients(self):\n",
    "     cake = CakeFactory(\"chocolate\", \"medium\")\n",
    "     cake.add_topping(\"cherries\")\n",
    "     ingredients = cake.check_ingredients()\n",
    "     self.assertIn(\"cocoa\", ingredients)\n",
    "     self.assertIn(\"cherries\", ingredients)\n",
    "     self.assertNotIn(\"vanilla extract\", ingredients)\n",
    "\n",
    " def test_check_price(self):\n",
    "     cake = CakeFactory(\"vanilla\", \"large\")\n",
    "     cake.add_topping(\"sprinkles\")\n",
    "     cake.add_topping(\"cherries\")\n",
    "     price = cake.check_price()\n",
    "     self.assertEqual(price, 13) # Vanilla cake, large size + 2 toppings\n",
    "\n",
    "\n",
    "# Running the unittests\n",
    "unittest.TextTestRunner().run(unittest.TestLoader().loadTestsFromTestCase(TestCakeFactory))"
   ]
  },
  {
   "cell_type": "code",
   "execution_count": 3,
   "metadata": {},
   "outputs": [
    {
     "name": "stderr",
     "output_type": "stream",
     "text": [
      ".\n",
      "----------------------------------------------------------------------\n",
      "Ran 1 test in 0.001s\n",
      "\n",
      "OK\n"
     ]
    },
    {
     "data": {
      "text/plain": [
       "<unittest.runner.TextTestResult run=1 errors=0 failures=0>"
      ]
     },
     "execution_count": 3,
     "metadata": {},
     "output_type": "execute_result"
    }
   ],
   "source": [
    "import unittest\n",
    "\n",
    "\n",
    "# Fixing the test_check_price method\n",
    "class TestCakeFactory(unittest.TestCase):\n",
    " # ... Other tests remain the same\n",
    "\n",
    " def test_check_price(self):\n",
    "     cake = CakeFactory(\"vanilla\", \"large\")\n",
    "     cake.add_topping(\"sprinkles\")\n",
    "     cake.add_topping(\"cherries\")\n",
    "     price = cake.check_price()\n",
    "     self.assertEqual(price, 14) # Vanilla cake, large size + 2 toppings\n",
    "\n",
    "# Re-running the unittests\n",
    "unittest.TextTestRunner().run(unittest.TestLoader().loadTestsFromTestCase(TestCakeFactory))"
   ]
  }
 ],
 "metadata": {
  "kernelspec": {
   "display_name": ".env",
   "language": "python",
   "name": "python3"
  },
  "language_info": {
   "codemirror_mode": {
    "name": "ipython",
    "version": 3
   },
   "file_extension": ".py",
   "mimetype": "text/x-python",
   "name": "python",
   "nbconvert_exporter": "python",
   "pygments_lexer": "ipython3",
   "version": "3.12.0"
  }
 },
 "nbformat": 4,
 "nbformat_minor": 2
}
