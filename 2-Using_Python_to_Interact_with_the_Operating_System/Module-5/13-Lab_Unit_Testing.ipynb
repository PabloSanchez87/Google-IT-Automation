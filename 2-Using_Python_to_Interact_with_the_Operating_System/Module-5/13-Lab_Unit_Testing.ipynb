{
 "cells": [
  {
   "cell_type": "markdown",
   "metadata": {},
   "source": [
    "# Implement Unit Testing\n",
    "\n",
    "## Introduction\n",
    "Imagine one of your IT coworkers just retired and left a folder of scripts for you to use. One of the scripts, called `emails.py`, matches users to an email address and lets us easily look them up! For the most part, the script works great — you enter in an employee's name and their email is printed to the screen. But, for some employees, the output doesn't look quite right. Your job is to add a test to reproduce the bug, make the necessary corrections, and verify that all the tests pass to make sure the script works! Best of luck!"
   ]
  },
  {
   "cell_type": "code",
   "execution_count": null,
   "metadata": {},
   "outputs": [],
   "source": [
    "#!/usr/bin/env python3\n",
    "import sys\n",
    "import csv\n",
    "\n",
    "def populate_dictionary(filename): \n",
    "  \"\"\"Populate a dictionary with name/email pairs for easy lookup.\"\"\"\n",
    "  email_dict = {}\n",
    "  with open(filename) as csvfile:\n",
    "    lines = csv.reader(csvfile, delimiter = ',')\n",
    "    for row in lines:\n",
    "      name = str(row[0].lower())\n",
    "      email_dict[name] = row[1]\n",
    "  return email_dict\n",
    "\n",
    "def find_email(argv):\n",
    "  \"\"\" Return an email address based on the username given.\"\"\"\n",
    "  # Create the username based on the command line input.\n",
    "  fullname = str(argv[1] + \" \" + argv[2])\n",
    "  # Preprocess the data\n",
    "  email_dict = populate_dictionary('/home/student/data/user_emails.csv')\n",
    "  # Find and print the email\n",
    "  return email_dict.get(fullname.lower())\n",
    "\n",
    "def main():\n",
    "  print(find_email(sys.argv))\n",
    "\n",
    "if __name__ == \"__main__\":\n",
    "  main()"
   ]
  },
  {
   "cell_type": "markdown",
   "metadata": {},
   "source": [
    "This script consists of two functions: `populate_dictionary(filename)` and `find_email(argv)`. \n",
    "\n",
    "- The function `populate_dictionary(filename)` reads the user_emails.csv file and populates a dictionary with name/value pairs. \n",
    "- The other function, `find_emails(argv)`, searches the dictionary created in the previous function for the user name passed to the function as a parameter. It then returns the associated email address. This script accepts employee's first name and last name as command-line arguments and outputs their email address.\n",
    "\n",
    "The script accepts arguments through the command line. These arguments are stored in a list named sys.argv. The first element of this list, i.e. argv[0], is always the name of the file being executed. So the parameters, i.e., first name and last name, are then stored in argv[1] and argv[2] respectively.\n",
    "\n",
    "Let's test the script now.\n",
    "\n",
    "Since you know the contents of the user_emails.csv file, choose any name to be passed as a parameter, or you can use the following name:"
   ]
  },
  {
   "cell_type": "markdown",
   "metadata": {},
   "source": [
    "```bash\n",
    "python3 emails.py Blossom Gill\n",
    "```\t\n",
    "\n",
    "This will give you the email address associated with the Full Name passed as parameters. In this case, the name is Blossom Gill and the email ID associated with this name is `blossom@abc.edu`.\n",
    "\n",
    "That was simple and straightforward. But this script has few bugs. In the next part of this lab, we will design some test cases and correct the bugs in the script."
   ]
  },
  {
   "cell_type": "markdown",
   "metadata": {},
   "source": [
    "## Introduction to test cases\n",
    "Writing a test encourages you to think through the script's design and goals before writing the code. This keeps you focused and lets you create better designs. If you learn how to easily test your scripts, you'll be able to create code that's better defined and cohesive.\n",
    "\n",
    "In this lab, we will write tests and correct bugs within the existing script.\n",
    "\n",
    "In this section, we will write a basic test case and see how it works. A test case is an individual unit of testing that checks for a specific response to a particular set of inputs.\n",
    "\n",
    "Use the following command to create a new file (in scripts directory) to write our test cases:"
   ]
  },
  {
   "cell_type": "code",
   "execution_count": null,
   "metadata": {},
   "outputs": [],
   "source": [
    "#!/usr/bin/env python3\n",
    "\n",
    "import unittest\n",
    "\n",
    "from emails import find_email\n",
    "\n",
    "class EmailsTest(unittest.TestCase):\n",
    "\n",
    "  def test_basic(self):\n",
    "\n",
    "    testcase = [None, \"Bree\", \"Campbell\"]\n",
    "\n",
    "    expected = \"breee@abc.edu\"\n",
    "\n",
    "    self.assertEqual(find_email(testcase), expected)\n",
    "\n",
    "if __name__ == '__main__':\n",
    "\n",
    "  unittest.main(verbosity=2)"
   ]
  },
  {
   "cell_type": "markdown",
   "metadata": {},
   "source": [
    "We will run this file through the command line here. To do this, we will give the file permissions for execution.\n",
    "\n",
    "```bash\t\n",
    "chmod +x emails_test.py\n",
    "\n",
    "./emails_test.py\n",
    "```\n",
    "\n",
    "The output should look like this:\n",
    "\n",
    "```bash\n",
    ".\n",
    "----------------------------------------------------------------------\n",
    "Ran 1 test in 0.001s\n",
    "```\n",
    "\n",
    "The test case passed. This was a basic test case to show how test cases with Python work. In the next section, we will write a few more test cases covering other possibilities."
   ]
  },
  {
   "cell_type": "markdown",
   "metadata": {},
   "source": [
    "## Test Case 1: Missing parameters\n",
    "\n",
    "Imagine a scenario where the user doesn't give either their first name or last name. What do you think the output would be in this case?\n",
    "\n",
    "Lets try this out. Choose any first or last name of your choice or use the following name to be passed to emails.py as a parameter:\n",
    "\n",
    "```bash\n",
    "python3 emails.py Kirk\n",
    "```\n",
    "\n",
    "```bash\n",
    "Traceback (most recent call last):\n",
    "  File \"emails.py\", line 30, in <module>\n",
    "    main()\n",
    "  File \"emails.py\", line 27, in main\n",
    "    print(find_email(sys.argv))\n",
    "  File \"emails.py\", line 20, in find_email\n",
    "    fullname = str(argv[1] + \" \" + argv[2])\n",
    "IndexError: list index out of range\n",
    "```"
   ]
  },
  {
   "cell_type": "markdown",
   "metadata": {},
   "source": [
    "This now gives us an error. The script doesn't take just one parameter as input and so it produces an error.\n",
    "\n",
    "Let's now write a test case to handle this type of error. This test case should pass just the first name to the script.\n",
    "\n",
    "Add the test case test_one_name just after the first test case.\n",
    "\n",
    "`Pro tip`: Note down the name of the test cases. Knowing the names will be helpful in running individual tests."
   ]
  },
  {
   "cell_type": "code",
   "execution_count": null,
   "metadata": {},
   "outputs": [],
   "source": [
    "def test_one_name(self):\n",
    "    testcase = [None, \"John\"]\n",
    "    expected = \"Missing parameters\"\n",
    "    self.assertEqual(find_email(testcase), expected)"
   ]
  },
  {
   "cell_type": "markdown",
   "metadata": {},
   "source": [
    "Now run the second test using the following command:\n",
    "\n",
    "```bash\n",
    "./emails_test.py\n",
    "```\t\n",
    "\n",
    "Another way to run a particular function within the script is to specify the class name and the function name you want to run. This helps us run individual tests without having to run all the test cases in the test script again.\n",
    "\n",
    "This now returns the following output:\n",
    "\n",
    "```bash\t\n",
    ".E\n",
    "======================================================================\n",
    "ERROR: test_one_name (__main__.TestFile)\n",
    "----------------------------------------------------------------------\n",
    "Traceback (most recent call last):\n",
    "  File \"./emails_test.py\", line 15, in test_one_name\n",
    "    self.assertEqual(find_email(testcase), expected)\n",
    "  File \"/home/student/scripts/emails.py\", line 20, in find_email\n",
    "    fullname = str(argv[1] + \" \" + argv[2])\n",
    "IndexError: list index out of range\n",
    "\n",
    "----------------------------------------------------------------------\n",
    "Ran 2 tests in 0.002s\n",
    "\n",
    "FAILED (errors=1)\n",
    "```\n",
    "\n",
    "The output shows the function that caused the error and the description related to the error. It returned IndexError, which is raised while attempting to access an index that's outside the bounds of a list. This error occurs because the script emails.py takes in two parameters, the first and last name. We need to handle this type of incomplete inputs within the script. We need to decide what the correct output should be. Let's say, in this case, your script should output Missing parameter.\n",
    "\n",
    "Let's now fix the code. The last test case showed that the script fails if only one parameter is passed. We would now handle these types of incomplete inputs given to the script file emails.py.\n",
    "There are two ways to solve this issue:\n",
    "\n",
    "- Use a try/except clause to handle IndexError.\n",
    "- Check the length of input parameters before traversing the user_emails.csv file for the email address.\n",
    "\n",
    "You can use either of the above methods, but remember that test cases should pass and the script should return Missing parameters in this case.\n",
    "\n",
    "We will use the try/except clause here to solve this issue. Try/except blocks are used for exceptions and error handling. Since exceptions are detected during execution of a script/program, error handling in Python is done using exceptions that are caught in try blocks and handled in except blocks.\n",
    "\n",
    "Let's dive into how try/except blocks work:\n",
    "- First, we execute the try clause.\n",
    "- If no exception occurs, the except clause is ignored.\n",
    "- If an exception occurs during the execution of the try clause, the rest of the try clause is then skipped.\n",
    "- It then attempts to match the type with the exception named after the except keyword. If this matches, the except clause is executed. If it doesn't, the control is passed on to outer try statements. If no handler is found, it's an unhandled exception and the execution stops with an error message.\n",
    "\n",
    "A try statement may have more than one except clause to specify handlers for different exceptions. In our case, the exception error we need to handle is IndexError.\n",
    "\n",
    "Let's move forward by adding a try/except clause to the script emails.py.\n",
    "\n",
    "We will add the complete code block within the function find_email(argv), which is within the try block, and add an IndexError exception within the except block. This means that the execution will start normally with any number of parameters given to the script. If the function find_email(argv) receives the required number of parameters, it will return the email address. And if the function doesn't receive the required number of parameters, it will throw an IndexError exception and the except clause which handles IndexError exception would then execute.\n",
    "\n",
    "Add the body of the function find_emails(argv) within the try block and add an except block:"
   ]
  },
  {
   "cell_type": "code",
   "execution_count": null,
   "metadata": {},
   "outputs": [],
   "source": [
    "def find_email(argv):\n",
    "  \"\"\" Return an email address based on the username given.\"\"\"\n",
    "  # Create the username based on the command line input.\n",
    "  try:\n",
    "    fullname = str(argv[1] + \" \" + argv[2])\n",
    "    # Preprocess the data\n",
    "    email_dict = populate_dictionary('/home/student/data/user_emails.csv')\n",
    "    # Find and print the email\n",
    "    return email_dict.get(fullname.lower())\n",
    "  except IndexError:\n",
    "    return \"Missing parameters\""
   ]
  },
  {
   "cell_type": "markdown",
   "metadata": {},
   "source": [
    "The complete file emails.py should now look like this:"
   ]
  },
  {
   "cell_type": "code",
   "execution_count": null,
   "metadata": {},
   "outputs": [],
   "source": [
    "#!/usr/bin/env python3\n",
    "\n",
    "\n",
    "import sys\n",
    "import csv\n",
    "\n",
    "def populate_dictionary(filename):\n",
    "  \"\"\"Populate a dictionary with name/email pairs for easy lookup.\"\"\"\n",
    "  email_dict = {}\n",
    "  with open(filename) as csvfile:\n",
    "    lines = csv.reader(csvfile, delimiter = ',')\n",
    "    for row in lines:\n",
    "      name = str(row[0].lower())\n",
    "      email_dict[name] = row[1]\n",
    "  return email_dict\n",
    "\n",
    "def find_email(argv):\n",
    "  \"\"\" Return an email address based on the username given.\"\"\"\n",
    "  # Create the username based on the command line input.\n",
    "  try:\n",
    "    fullname = str(argv[1] + \" \" + argv[2])\n",
    "    # Preprocess the data\n",
    "    email_dict = populate_dictionary('/home/student/data/user_emails.csv')\n",
    "    # Find and print the email\n",
    "    return email_dict.get(fullname.lower())\n",
    "  except IndexError:\n",
    "    return \"Missing parameters\"\n",
    "\n",
    "def main():\n",
    "  print(find_email(sys.argv))\n",
    "\n",
    "if __name__ == \"__main__\":\n",
    "  main()"
   ]
  },
  {
   "cell_type": "markdown",
   "metadata": {},
   "source": [
    "Now run the test cases within the file email_test.py again."
   ]
  },
  {
   "cell_type": "markdown",
   "metadata": {},
   "source": [
    "## Test Case 2: Random email address\n",
    "\n",
    "Let's find some other edge cases. We'll search for an employee that doesn't exist. Can you expect the output the script would give? The expected output in such a case should be No email address found. Let's see how the script reacts to this case by adding a test case in the file emails_test.py just after the second test case.\n",
    "\n",
    "Open the file emails_test.py.\n",
    "\n",
    "Add the following test case after the previous test case:"
   ]
  },
  {
   "cell_type": "code",
   "execution_count": null,
   "metadata": {},
   "outputs": [],
   "source": [
    "def test_two_name(self):\n",
    "    testcase = [None, \"Roy\", \"Cooper\"]\n",
    "    expected = \"No email address found\"\n",
    "    self.assertEqual(find_email(testcase), expected)"
   ]
  },
  {
   "cell_type": "markdown",
   "metadata": {},
   "source": [
    "The file should now look like this:"
   ]
  },
  {
   "cell_type": "code",
   "execution_count": null,
   "metadata": {},
   "outputs": [],
   "source": [
    "#!/usr/bin/env python3\n",
    "\n",
    "\n",
    "import unittest\n",
    "from emails import find_email\n",
    "\n",
    "class EmailsTest(unittest.TestCase):\n",
    "  def test_basic(self):\n",
    "    testcase = [None, \"Bree\", \"Campbell\"]\n",
    "    expected = \"breee@abc.edu\"\n",
    "    self.assertEqual(find_email(testcase), expected)\n",
    "\n",
    "  def test_one_name(self):\n",
    "    testcase = [None, \"John\"]\n",
    "    expected = \"Missing parameters\"\n",
    "    self.assertEqual(find_email(testcase), expected)\n",
    "\n",
    "  def test_two_name(self):\n",
    "    testcase = [None, \"Roy\", \"Cooper\"]\n",
    "    expected = \"No email address found\"\n",
    "    self.assertEqual(find_email(testcase), expected)\n",
    "\n",
    "if __name__ == '__main__':\n",
    "  unittest.main()"
   ]
  },
  {
   "cell_type": "markdown",
   "metadata": {},
   "source": [
    "Run the test script.\n",
    "\n",
    "The test case failed! This means the script doesn't output the message No email address found if we search for an employee that doesn't exist.\n",
    "\n",
    "Let's edit the script emails.py to return a message saying No email address found where users searched for don't exist.\n",
    "\n",
    "Can you guess the statement where the function find_email(argv) actually fetches the email address of the user? The method email_dict.get(full): does the job. This method fetches the email address from the list if found, and if not, it returns None.\n",
    "\n",
    "We need to add an if-else loop here, which will return the email address only if the method email_dict.get(username) returns a valid email address. If it doesn't, it will return the message No email address found.\n",
    "\n",
    "To do this, edit the script file.\n",
    "\n",
    "Locate the statement return email_dict.get(fullname.lower()): within the script under the function find_email(argv) and replace it with the following block of code:\n",
    "\n",
    "```py\n",
    "if email_dict.get(fullname.lower()):\n",
    "    return email_dict.get(fullname.lower())\n",
    "else:\n",
    "    return \"No email address found\"\n",
    "```\n",
    "\n",
    "The file should now look like this:"
   ]
  },
  {
   "cell_type": "code",
   "execution_count": null,
   "metadata": {},
   "outputs": [],
   "source": [
    "#!/usr/bin/env python3\n",
    "\n",
    "import csv\n",
    "import sys\n",
    "\n",
    "def populate_dictionary(filename):\n",
    "  \"\"\"Populate a dictionary with name/email pairs for easy lookup.\"\"\"\n",
    "  email_dict = {}\n",
    "  with open(filename) as csvfile:\n",
    "    lines = csv.reader(csvfile, delimiter = ',')\n",
    "    for row in lines:\n",
    "      name = str(row[0].lower())\n",
    "      email_dict[name] = row[1]\n",
    "  return email_dict\n",
    "\n",
    "def find_email(argv):\n",
    "  \"\"\" Return an email address based on the username given.\"\"\"\n",
    "  # Create the username based on the command line input.\n",
    "  try:\n",
    "    fullname = str(argv[1] + \" \" + argv[2])\n",
    "    # Preprocess the data\n",
    "    email_dict = populate_dictionary('/home/student/data/user_emails.csv')\n",
    "     # If email exists, print it\n",
    "    if email_dict.get(fullname.lower()):\n",
    "      return email_dict.get(fullname.lower())\n",
    "    else:\n",
    "      return \"No email address found\"\n",
    "  except IndexError:\n",
    "    return \"Missing parameters\"\n",
    "\n",
    "def main():\n",
    "  print(find_email(sys.argv))\n",
    "\n",
    "if __name__ == \"__main__\":\n",
    "  main()"
   ]
  },
  {
   "cell_type": "markdown",
   "metadata": {},
   "source": [
    "Now, run the test case to check if the script still produces an error."
   ]
  },
  {
   "cell_type": "markdown",
   "metadata": {},
   "source": [
    "You can also run the script emails.py by passing some random names (that aren't present in user_emails.csv) and check the output.\n",
    "\n",
    "```bash\t\n",
    "python3 emails.py Roy Cooper\n",
    "```\n",
    "\n",
    "This should now give the following output:\n",
    "\n",
    "    No email address found"
   ]
  }
 ],
 "metadata": {
  "kernelspec": {
   "display_name": ".env",
   "language": "python",
   "name": "python3"
  },
  "language_info": {
   "codemirror_mode": {
    "name": "ipython",
    "version": 3
   },
   "file_extension": ".py",
   "mimetype": "text/x-python",
   "name": "python",
   "nbconvert_exporter": "python",
   "pygments_lexer": "ipython3",
   "version": "3.12.0"
  }
 },
 "nbformat": 4,
 "nbformat_minor": 2
}
