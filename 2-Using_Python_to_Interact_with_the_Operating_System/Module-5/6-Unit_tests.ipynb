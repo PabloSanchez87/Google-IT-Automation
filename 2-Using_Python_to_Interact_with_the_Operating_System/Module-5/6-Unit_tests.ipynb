{
 "cells": [
  {
   "cell_type": "code",
   "execution_count": 2,
   "metadata": {},
   "outputs": [
    {
     "name": "stderr",
     "output_type": "stream",
     "text": [
      ".\n",
      "----------------------------------------------------------------------\n",
      "Ran 1 test in 0.001s\n",
      "\n",
      "OK\n"
     ]
    },
    {
     "name": "stdout",
     "output_type": "stream",
     "text": [
      "<unittest.runner.TextTestResult run=1 errors=0 failures=0>\n"
     ]
    }
   ],
   "source": [
    "import unittest\n",
    "\n",
    "class Library:\n",
    "    def __init__(self):\n",
    "        self.collection = []\n",
    "\n",
    "    def add_book(self, book_title):\n",
    "        self.collection.append(book_title)\n",
    "\n",
    "    def has_book(self, book_title):\n",
    "        return book_title in self.collection\n",
    "\n",
    "# Unit test for the Library system\n",
    "class TestLibrary(unittest.TestCase):\n",
    "\n",
    "    def test_adding_book_to_library(self):\n",
    "        # Arrange\n",
    "        library = Library()\n",
    "        new_book = \"Python Design Patterns\"\n",
    "\n",
    "        # Act\n",
    "        \n",
    "        library.add_book(new_book)\n",
    "        # Assert\n",
    "        self.assertTrue(library.has_book(new_book))\n",
    "\n",
    "# Running the test\n",
    "library_test_output = unittest.TextTestRunner().run(unittest.TestLoader().loadTestsFromTestCase(TestLibrary))\n",
    "print(library_test_output)\n"
   ]
  },
  {
   "cell_type": "code",
   "execution_count": 8,
   "metadata": {},
   "outputs": [
    {
     "name": "stderr",
     "output_type": "stream",
     "text": [
      "E\n",
      "======================================================================\n",
      "ERROR: setUpModule (__main__)\n",
      "----------------------------------------------------------------------\n",
      "Traceback (most recent call last):\n",
      "  File \"/tmp/ipykernel_210492/3666563405.py\", line 22, in setUpModule\n",
      "    with open(ORIGINAL_FILE_PATH, 'w') as file:\n",
      "         ^^^^^^^^^^^^^^^^^^^^^^^^^^^^^\n",
      "  File \"/home/pablost/Google_IT_Automation_With_Python_Course/.env/lib/python3.12/site-packages/IPython/core/interactiveshell.py\", line 324, in _modified_open\n",
      "    return io_open(file, *args, **kwargs)\n",
      "           ^^^^^^^^^^^^^^^^^^^^^^^^^^^^^^\n",
      "PermissionError: [Errno 13] Permission denied: '/home/orginal_test_file.txt'\n",
      "\n",
      "----------------------------------------------------------------------\n",
      "Ran 0 tests in 0.002s\n",
      "\n",
      "FAILED (errors=1)\n"
     ]
    },
    {
     "ename": "FileNotFoundError",
     "evalue": "[Errno 2] No such file or directory: '/home/copied_test_file.txt'",
     "output_type": "error",
     "traceback": [
      "\u001b[0;31m---------------------------------------------------------------------------\u001b[0m",
      "\u001b[0;31mFileNotFoundError\u001b[0m                         Traceback (most recent call last)",
      "Cell \u001b[0;32mIn[8], line 59\u001b[0m\n\u001b[1;32m     56\u001b[0m runner\u001b[38;5;241m.\u001b[39mrun(suite)\n\u001b[1;32m     58\u001b[0m \u001b[38;5;66;03m# Read the copied file to show the results\u001b[39;00m\n\u001b[0;32m---> 59\u001b[0m \u001b[38;5;28;01mwith\u001b[39;00m \u001b[38;5;28;43mopen\u001b[39;49m\u001b[43m(\u001b[49m\u001b[43mCOPIED_FILE_PATH\u001b[49m\u001b[43m,\u001b[49m\u001b[43m \u001b[49m\u001b[38;5;124;43m'\u001b[39;49m\u001b[38;5;124;43mr\u001b[39;49m\u001b[38;5;124;43m'\u001b[39;49m\u001b[43m)\u001b[49m \u001b[38;5;28;01mas\u001b[39;00m result_file:\n\u001b[1;32m     60\u001b[0m     test_results \u001b[38;5;241m=\u001b[39m result_file\u001b[38;5;241m.\u001b[39mread()\n\u001b[1;32m     62\u001b[0m \u001b[38;5;28mprint\u001b[39m(test_results)\n",
      "File \u001b[0;32m~/Google_IT_Automation_With_Python_Course/.env/lib/python3.12/site-packages/IPython/core/interactiveshell.py:324\u001b[0m, in \u001b[0;36m_modified_open\u001b[0;34m(file, *args, **kwargs)\u001b[0m\n\u001b[1;32m    317\u001b[0m \u001b[38;5;28;01mif\u001b[39;00m file \u001b[38;5;129;01min\u001b[39;00m {\u001b[38;5;241m0\u001b[39m, \u001b[38;5;241m1\u001b[39m, \u001b[38;5;241m2\u001b[39m}:\n\u001b[1;32m    318\u001b[0m     \u001b[38;5;28;01mraise\u001b[39;00m \u001b[38;5;167;01mValueError\u001b[39;00m(\n\u001b[1;32m    319\u001b[0m         \u001b[38;5;124mf\u001b[39m\u001b[38;5;124m\"\u001b[39m\u001b[38;5;124mIPython won\u001b[39m\u001b[38;5;124m'\u001b[39m\u001b[38;5;124mt let you open fd=\u001b[39m\u001b[38;5;132;01m{\u001b[39;00mfile\u001b[38;5;132;01m}\u001b[39;00m\u001b[38;5;124m by default \u001b[39m\u001b[38;5;124m\"\u001b[39m\n\u001b[1;32m    320\u001b[0m         \u001b[38;5;124m\"\u001b[39m\u001b[38;5;124mas it is likely to crash IPython. If you know what you are doing, \u001b[39m\u001b[38;5;124m\"\u001b[39m\n\u001b[1;32m    321\u001b[0m         \u001b[38;5;124m\"\u001b[39m\u001b[38;5;124myou can use builtins\u001b[39m\u001b[38;5;124m'\u001b[39m\u001b[38;5;124m open.\u001b[39m\u001b[38;5;124m\"\u001b[39m\n\u001b[1;32m    322\u001b[0m     )\n\u001b[0;32m--> 324\u001b[0m \u001b[38;5;28;01mreturn\u001b[39;00m \u001b[43mio_open\u001b[49m\u001b[43m(\u001b[49m\u001b[43mfile\u001b[49m\u001b[43m,\u001b[49m\u001b[43m \u001b[49m\u001b[38;5;241;43m*\u001b[39;49m\u001b[43margs\u001b[49m\u001b[43m,\u001b[49m\u001b[43m \u001b[49m\u001b[38;5;241;43m*\u001b[39;49m\u001b[38;5;241;43m*\u001b[39;49m\u001b[43mkwargs\u001b[49m\u001b[43m)\u001b[49m\n",
      "\u001b[0;31mFileNotFoundError\u001b[0m: [Errno 2] No such file or directory: '/home/copied_test_file.txt'"
     ]
    }
   ],
   "source": [
    "import unittest\n",
    "import os\n",
    "import shutil\n",
    "\n",
    "# Function to test\n",
    "def simple_addition(a, b):\n",
    "    return a + b\n",
    "\n",
    "# Paths for file operations\n",
    "ORIGINAL_FILE_PATH = \"<path>/original_test_file.txt\"\n",
    "COPIED_FILE_PATH = \"/<path>/copied_test_file.txt\"\n",
    "\n",
    "# Global counter\n",
    "COUNTER = 0\n",
    "\n",
    "# This method will be run once before any tests or test classes\n",
    "def setUpModule():\n",
    "    global COUNTER\n",
    "    COUNTER = 0\n",
    "    \n",
    "    # Create a file in /tmp\n",
    "    with open(ORIGINAL_FILE_PATH, 'w') as file:\n",
    "        file.write(\"Test Results:\\n\")\n",
    "\n",
    "# This method will be run once after all tests and test classes\n",
    "def tearDownModule():\n",
    "    # Copy the file to another directory\n",
    "    shutil.copy2(ORIGINAL_FILE_PATH, COPIED_FILE_PATH)\n",
    "    \n",
    "    # Remove the original file\n",
    "    os.remove(ORIGINAL_FILE_PATH)\n",
    "\n",
    "class TestSimpleAddition(unittest.TestCase):\n",
    "\n",
    "    # This method will be run before each individual test\n",
    "    def setUp(self):\n",
    "        global COUNTER\n",
    "        COUNTER += 1\n",
    "\n",
    "    # This method will be run after each individual test\n",
    "    def tearDown(self):\n",
    "        # Append the test result to the file\n",
    "        with open(ORIGINAL_FILE_PATH, 'a') as file:\n",
    "            result = \"PASSED\" if self._outcome.success else \"FAILED\"\n",
    "            file.write(f\"Test {COUNTER}: {result}\\n\")\n",
    "\n",
    "    def test_add_positive_numbers(self):\n",
    "        self.assertEqual(simple_addition(3, 4), 7)\n",
    "\n",
    "    def test_add_negative_numbers(self):\n",
    "        self.assertEqual(simple_addition(-3, -4), -7)\n",
    "\n",
    "# Running the tests\n",
    "suite = unittest.TestLoader().loadTestsFromTestCase(TestSimpleAddition)\n",
    "runner = unittest.TextTestRunner()\n",
    "runner.run(suite)\n",
    "\n",
    "# Read the copied file to show the results\n",
    "with open(COPIED_FILE_PATH, 'r') as result_file:\n",
    "    test_results = result_file.read()\n",
    "\n",
    "print(test_results)\n"
   ]
  }
 ],
 "metadata": {
  "kernelspec": {
   "display_name": ".env",
   "language": "python",
   "name": "python3"
  },
  "language_info": {
   "codemirror_mode": {
    "name": "ipython",
    "version": 3
   },
   "file_extension": ".py",
   "mimetype": "text/x-python",
   "name": "python",
   "nbconvert_exporter": "python",
   "pygments_lexer": "ipython3",
   "version": "3.12.0"
  }
 },
 "nbformat": 4,
 "nbformat_minor": 2
}
