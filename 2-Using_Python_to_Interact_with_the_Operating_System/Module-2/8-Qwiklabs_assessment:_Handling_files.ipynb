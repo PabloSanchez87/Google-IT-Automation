{
 "cells": [
  {
   "cell_type": "markdown",
   "metadata": {},
   "source": [
    "# Introduction\n",
    "For this lab, imagine you are an IT Specialist at a medium-sized company. \n",
    "The Human Resources Department at your company wants you to find out how many people are in each department. \n",
    "You need to write a Python script that reads a CSV file containing a list of the employees in the organization, counts how many people are in each department, and then generates a report using this information. \n",
    "The output of this script will be a plain text file."
   ]
  },
  {
   "cell_type": "code",
   "execution_count": null,
   "metadata": {},
   "outputs": [],
   "source": [
    "## Generate_report.py\n",
    "#!/usr/bin/env python3\n",
    "import csv\n",
    "\n",
    "\n",
    "def read_employees(csv_file_location):\n",
    "        \n",
    "  csv.register_dialect('empDialect', skipinitialspace=True, strict=True)\n",
    "  employee_file = csv.DictReader(open(csv_file_location), dialect = 'empDialect')\n",
    "  \n",
    "  employee_list = []\n",
    "  for data in employee_file:\n",
    "    employee_list.append(dict(data))\n",
    "  return employee_list\n",
    "\n",
    "######################\n",
    "employee_list = read_employees('/home/student/data/employees.csv')\n",
    "\n",
    "print(employee_list)"
   ]
  },
  {
   "cell_type": "code",
   "execution_count": null,
   "metadata": {},
   "outputs": [],
   "source": [
    "def process_data(employee_list):\n",
    "  department_list = []\n",
    "\n",
    "  for employee_data in employee_list:\n",
    "    department_list.append(employee_data['Department'])\n",
    "\n",
    "\n",
    "  department_data = {}\n",
    "  for department_name in set(department_list):\n",
    "    department_data[department_name] = department_list.count(department_name)\n",
    "\n",
    "  return department_data\n",
    "\n",
    "####################\n",
    "dictionary = process_data(employee_list)\n",
    "#print(dictionary)\n",
    "####################"
   ]
  },
  {
   "cell_type": "code",
   "execution_count": null,
   "metadata": {},
   "outputs": [],
   "source": [
    "def write_report(dictionary, report_file):\n",
    "\n",
    "  with open(report_file, \"w+\") as f:\n",
    "\n",
    "    for k in sorted(dictionary):\n",
    "\n",
    "      f.write(str(k) + ':' + str(dictionary[k]) + '\\n')\n",
    "\n",
    "    f.close()\n",
    "\n",
    "\n",
    "write_report(dictionary, '/home/student/test_report.txt')"
   ]
  }
 ],
 "metadata": {
  "language_info": {
   "name": "python"
  }
 },
 "nbformat": 4,
 "nbformat_minor": 2
}
